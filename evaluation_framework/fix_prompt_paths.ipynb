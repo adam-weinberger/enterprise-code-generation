{
 "cells": [
  {
   "cell_type": "code",
   "execution_count": 1,
   "metadata": {},
   "outputs": [],
   "source": [
    "import pandas as pd\n",
    "import os"
   ]
  },
  {
   "cell_type": "code",
   "execution_count": 2,
   "metadata": {},
   "outputs": [],
   "source": [
    "def find_file(new_directory, file_name):\n",
    "    for root, dirs, files in os.walk(new_directory):\n",
    "        if file_name in files:\n",
    "            return os.path.join(root, file_name)\n",
    "    return None"
   ]
  },
  {
   "cell_type": "code",
   "execution_count": 3,
   "metadata": {},
   "outputs": [],
   "source": [
    "def fix_prompt_csv_paths(csv_paths):\n",
    "    for csv_path in csv_paths:\n",
    "        df = pd.read_csv(csv_path)\n",
    "        df['file_names'] = df['path'].apply(lambda x: os.path.basename(x))\n",
    "        snap_directory = '/Users/ChaliniA/Documents/capstone-code-generation/snap_v4_clone'\n",
    "        common_part = \"/Users/ChaliniA/Documents/capstone-code-generation/snap_v4_clone/\"\n",
    "        df['new_file_paths'] = df['file_names'].apply(lambda x: find_file(snap_directory, x)).str.replace(common_part, '../snap_v4_clone/')\n",
    "        df.to_csv(csv_path, index=False)\n"
   ]
  },
  {
   "cell_type": "code",
   "execution_count": 4,
   "metadata": {},
   "outputs": [],
   "source": [
    "csvs_to_fix = [\"/Users/ChaliniA/Documents/capstone-code-generation/data/output/20231112_lora-20231107-201630_finetune_inference_output.csv\",\n",
    "               \"/Users/ChaliniA/Documents/capstone-code-generation/data/output/20231112_codellama7B_pretrained_inference_output.csv\",\n",
    "               \"/Users/ChaliniA/Documents/capstone-code-generation/data/output/20231109_lora-20231107-201630_finetune_inference_output.csv\",\n",
    "               \"/Users/ChaliniA/Documents/capstone-code-generation/data/output/20231106_codellama_pretrained_inference_output.csv\",\n",
    "               \"/Users/ChaliniA/Documents/capstone-code-generation/data/output/20231105_lora-20231026-161421_finetune_inference_output.csv\"]"
   ]
  },
  {
   "cell_type": "code",
   "execution_count": 5,
   "metadata": {},
   "outputs": [],
   "source": [
    "fix_prompt_csv_paths(csvs_to_fix)"
   ]
  }
 ],
 "metadata": {
  "kernelspec": {
   "display_name": "capstone-env",
   "language": "python",
   "name": "python3"
  },
  "language_info": {
   "codemirror_mode": {
    "name": "ipython",
    "version": 3
   },
   "file_extension": ".py",
   "mimetype": "text/x-python",
   "name": "python",
   "nbconvert_exporter": "python",
   "pygments_lexer": "ipython3",
   "version": "3.11.5"
  }
 },
 "nbformat": 4,
 "nbformat_minor": 2
}
